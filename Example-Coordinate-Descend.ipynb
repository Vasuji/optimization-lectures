{
 "cells": [
  {
   "cell_type": "markdown",
   "metadata": {},
   "source": [
    "### Coordinate Descent Algorithm"
   ]
  },
  {
   "cell_type": "code",
   "execution_count": 11,
   "metadata": {},
   "outputs": [],
   "source": [
    "import numpy as np\n",
    "from sklearn.datasets import load_boston\n",
    "from sklearn.preprocessing import StandardScaler\n",
    "import matplotlib.pyplot as plt"
   ]
  },
  {
   "cell_type": "code",
   "execution_count": 12,
   "metadata": {},
   "outputs": [],
   "source": [
    "#  boston house-prices dataset\n",
    "data = load_boston()\n",
    "X, y = data.data, data.target\n",
    "\n",
    "X = StandardScaler().fit_transform(X)  # for easy convergence\n",
    "X = np.hstack([X, np.ones((X.shape[0], 1))])\n",
    "\n",
    "param = np.zeros(X.shape[1])"
   ]
  },
  {
   "cell_type": "code",
   "execution_count": 13,
   "metadata": {},
   "outputs": [],
   "source": [
    "def func(x, y, param):\n",
    "    return param[0] * x + param[1] * y\n",
    "\n",
    "def costf(X, y, param):\n",
    "    return np.sum((X.dot(param) - y) ** 2)/(2 * len(y))\n"
   ]
  },
  {
   "cell_type": "code",
   "execution_count": 14,
   "metadata": {},
   "outputs": [],
   "source": [
    "def gradient_descent(X, y, param, eta=0.01, iter=300):\n",
    "    cost_history = [0] * (iter+1)\n",
    "    cost_history[0] = costf(X, y, param)  # you may want to save initial cost\n",
    "\n",
    "    for iteration in range(iter):\n",
    "        h = X.dot(param)\n",
    "        loss = h - y.ravel()\n",
    "        gradient = X.T.dot(loss)/(2 * len(y))\n",
    "        param = param - eta * gradient\n",
    "        cost = costf(X, y, param)\n",
    "        #print(cost)\n",
    "        cost_history[iteration+1] = cost\n",
    "\n",
    "    return param, cost_history"
   ]
  },
  {
   "cell_type": "code",
   "execution_count": 15,
   "metadata": {},
   "outputs": [],
   "source": [
    "def coordinate_descent(X, y, param, iter=300):\n",
    "    cost_history = [0] * (iter+1)\n",
    "    cost_history[0] = costf(X, y, param)\n",
    "\n",
    "    for iteration in range(iter):\n",
    "        for i in range(len(param)):\n",
    "            dele = np.dot(np.delete(X, i, axis=1), np.delete(param, i, axis=0))\n",
    "            param[i] = np.dot(X[:,i].T, (y.ravel() - dele))/np.sum(np.square(X[:,i]))\n",
    "            cost = costf(X, y, param)\n",
    "            cost_history[iteration+1] = cost\n",
    "\n",
    "    return param, cost_history"
   ]
  },
  {
   "cell_type": "code",
   "execution_count": 16,
   "metadata": {},
   "outputs": [
    {
     "data": {
      "text/plain": [
       "<matplotlib.legend.Legend at 0x29a4cee52b0>"
      ]
     },
     "execution_count": 16,
     "metadata": {},
     "output_type": "execute_result"
    },
    {
     "data": {
      "image/png": "[encoded data removed]",
      "text/plain": [
       "<Figure size 432x288 with 1 Axes>"
      ]
     },
     "metadata": {
      "needs_background": "light"
     },
     "output_type": "display_data"
    }
   ],
   "source": [
    "ret, xret = gradient_descent(X, y, param)\n",
    "cret, cxret = coordinate_descent(X, y, param.copy())\n",
    "\n",
    "plt.plot(range(len(xret)), xret, label=\"GD\")\n",
    "plt.plot(range(len(cxret)), cxret, label=\"CD\")\n",
    "plt.legend()"
   ]
  },
  {
   "cell_type": "code",
   "execution_count": null,
   "metadata": {},
   "outputs": [],
   "source": []
  },
  {
   "cell_type": "code",
   "execution_count": null,
   "metadata": {},
   "outputs": [],
   "source": []
  },
  {
   "cell_type": "code",
   "execution_count": null,
   "metadata": {},
   "outputs": [],
   "source": []
  },
  {
   "cell_type": "code",
   "execution_count": null,
   "metadata": {},
   "outputs": [],
   "source": []
  },
  {
   "cell_type": "code",
   "execution_count": null,
   "metadata": {},
   "outputs": [],
   "source": []
  },
  {
   "cell_type": "code",
   "execution_count": null,
   "metadata": {},
   "outputs": [],
   "source": []
  },
  {
   "cell_type": "code",
   "execution_count": null,
   "metadata": {},
   "outputs": [],
   "source": []
  },
  {
   "cell_type": "code",
   "execution_count": null,
   "metadata": {},
   "outputs": [],
   "source": []
  },
  {
   "cell_type": "code",
   "execution_count": null,
   "metadata": {},
   "outputs": [],
   "source": []
  },
  {
   "cell_type": "code",
   "execution_count": null,
   "metadata": {},
   "outputs": [],
   "source": []
  },
  {
   "cell_type": "code",
   "execution_count": null,
   "metadata": {},
   "outputs": [],
   "source": []
  },
  {
   "cell_type": "code",
   "execution_count": null,
   "metadata": {},
   "outputs": [],
   "source": []
  },
  {
   "cell_type": "code",
   "execution_count": null,
   "metadata": {},
   "outputs": [],
   "source": []
  }
 ],
 "metadata": {
  "kernelspec": {
   "display_name": "Python 3",
   "language": "python",
   "name": "python3"
  },
  "language_info": {
   "codemirror_mode": {
    "name": "ipython",
    "version": 3
   },
   "file_extension": ".py",
   "mimetype": "text/x-python",
   "name": "python",
   "nbconvert_exporter": "python",
   "pygments_lexer": "ipython3",
   "version": "3.7.3"
  }
 },
 "nbformat": 4,
 "nbformat_minor": 2
}
